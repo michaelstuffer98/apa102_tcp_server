{
 "cells": [
  {
   "cell_type": "code",
   "execution_count": null,
   "metadata": {},
   "outputs": [
    {
     "ename": "",
     "evalue": "",
     "output_type": "error",
     "traceback": [
      "\u001b[1;31mRunning cells with 'apaled' requires the ipykernel package.\n",
      "\u001b[1;31mRun the following command to install 'ipykernel' into the Python environment. \n",
      "\u001b[1;31mCommand: '/home/michi/.pyenv/versions/3.11.8/envs/apaled/bin/python -m pip install ipykernel -U --force-reinstall'"
     ]
    }
   ],
   "source": [
    "from matplotlib import pyplot as plt"
   ]
  },
  {
   "cell_type": "code",
   "execution_count": 5,
   "metadata": {},
   "outputs": [
    {
     "data": {
      "text/plain": [
       "[1.0,\n",
       " 0.983333333,\n",
       " 0.966666667,\n",
       " 0.95,\n",
       " 0.933333333,\n",
       " 0.916666667,\n",
       " 0.9,\n",
       " 0.883333333,\n",
       " 0.866666667,\n",
       " 0.85,\n",
       " 0.833333333,\n",
       " 0.816666667,\n",
       " 0.8,\n",
       " 0.783333333,\n",
       " 0.766666667,\n",
       " 0.75,\n",
       " 0.733333333,\n",
       " 0.716666667,\n",
       " 0.7,\n",
       " 0.683333333,\n",
       " 0.666666667,\n",
       " 0.65,\n",
       " 0.633333333,\n",
       " 0.616666667,\n",
       " 0.6,\n",
       " 0.583333333,\n",
       " 0.566666667,\n",
       " 0.55,\n",
       " 0.533333333,\n",
       " 0.516666667,\n",
       " 0.5,\n",
       " 0.483333333,\n",
       " 0.466666667,\n",
       " 0.45,\n",
       " 0.433333333,\n",
       " 0.416666667,\n",
       " 0.4,\n",
       " 0.383333333,\n",
       " 0.366666667,\n",
       " 0.35,\n",
       " 0.333333333,\n",
       " 0.316666667,\n",
       " 0.3,\n",
       " 0.283333333,\n",
       " 0.266666667,\n",
       " 0.25,\n",
       " 0.233333333,\n",
       " 0.216666667,\n",
       " 0.2,\n",
       " 0.183333333,\n",
       " 0.166666667,\n",
       " 0.15,\n",
       " 0.133333333,\n",
       " 0.116666667,\n",
       " 0.1,\n",
       " 0.083333333,\n",
       " 0.066666667,\n",
       " 0.05,\n",
       " 0.033333333,\n",
       " 0.016666667,\n",
       " 0.0]"
      ]
     },
     "execution_count": 5,
     "metadata": {},
     "output_type": "execute_result"
    }
   ],
   "source": [
    "with open(\"table_peak\", 'r') as f:\n",
    "    lines = [float(l.strip()) for l in f.readlines()]\n",
    "    \n",
    "lines"
   ]
  }
 ],
 "metadata": {
  "kernelspec": {
   "display_name": "apaled",
   "language": "python",
   "name": "python3"
  },
  "language_info": {
   "codemirror_mode": {
    "name": "ipython",
    "version": 3
   },
   "file_extension": ".py",
   "mimetype": "text/x-python",
   "name": "python",
   "nbconvert_exporter": "python",
   "pygments_lexer": "ipython3",
   "version": "3.11.8"
  }
 },
 "nbformat": 4,
 "nbformat_minor": 2
}
